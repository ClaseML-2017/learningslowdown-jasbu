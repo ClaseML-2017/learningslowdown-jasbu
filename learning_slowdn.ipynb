{
 "cells": [
  {
   "cell_type": "code",
   "execution_count": 1,
   "metadata": {},
   "outputs": [],
   "source": [
    "from __future__ import division\n",
    "import matplotlib.pyplot as plt\n",
    "import tensorflow as tf\n",
    "import numpy as np\n",
    "%matplotlib inline"
   ]
  },
  {
   "cell_type": "markdown",
   "metadata": {},
   "source": [
    "# ANN - XOR"
   ]
  },
  {
   "cell_type": "code",
   "execution_count": 2,
   "metadata": {},
   "outputs": [],
   "source": [
    "X=np.asarray([[0,0],[0,1],[1,0],[1,1]])\n",
    "Y=np.asarray([[0],[1],[1],[0]])"
   ]
  },
  {
   "cell_type": "markdown",
   "metadata": {},
   "source": [
    "Declaracion de variables"
   ]
  },
  {
   "cell_type": "code",
   "execution_count": 3,
   "metadata": {},
   "outputs": [],
   "source": [
    "input_size=2\n",
    "hidden_layers=2\n",
    "middle_layer=2\n",
    "output_size=1\n",
    "x=tf.placeholder(tf.float32,shape=[None,input_size])\n",
    "y_=tf.placeholder(tf.float32,shape=[None,output_size])"
   ]
  },
  {
   "cell_type": "markdown",
   "metadata": {},
   "source": [
    "Operaciones, grafo"
   ]
  },
  {
   "cell_type": "code",
   "execution_count": 4,
   "metadata": {},
   "outputs": [],
   "source": [
    "W_layer1 = tf.Variable(tf.random_uniform([input_size,middle_layer], -1, 1), name=\"W_layer1\")\n",
    "b_layer1 = tf.Variable(tf.zeros([middle_layer]), name=\"b_layer1\")"
   ]
  },
  {
   "cell_type": "code",
   "execution_count": 5,
   "metadata": {},
   "outputs": [],
   "source": [
    "W_layer2 = tf.Variable(tf.random_uniform([hidden_layers,output_size], -1, 1), name=\"W_layer2\")\n",
    "b_layer2 = tf.Variable(tf.zeros([output_size]), name=\"b_layer2\")"
   ]
  },
  {
   "cell_type": "code",
   "execution_count": 6,
   "metadata": {},
   "outputs": [],
   "source": [
    "hidden_1=tf.nn.sigmoid(tf.matmul(x,W_layer1)+b_layer1)\n",
    "y= tf.nn.sigmoid(tf.matmul(hidden_1,W_layer2)+b_layer2) \n",
    "lossfn = tf.reduce_mean(tf.reduce_sum((y_-y)**2)) \n",
    "train_step = tf.train.GradientDescentOptimizer(0.01).minimize(lossfn)"
   ]
  },
  {
   "cell_type": "code",
   "execution_count": 7,
   "metadata": {},
   "outputs": [
    {
     "name": "stdout",
     "output_type": "stream",
     "text": [
      "WARNING:tensorflow:From /home/asbu/.local/lib/python2.7/site-packages/tensorflow/python/util/tf_should_use.py:175: initialize_all_variables (from tensorflow.python.ops.variables) is deprecated and will be removed after 2017-03-02.\n",
      "Instructions for updating:\n",
      "Use `tf.global_variables_initializer` instead.\n"
     ]
    }
   ],
   "source": [
    "init = tf.initialize_all_variables()\n",
    "sess = tf.Session() "
   ]
  },
  {
   "cell_type": "markdown",
   "metadata": {},
   "source": [
    "## Correr programa"
   ]
  },
  {
   "cell_type": "code",
   "execution_count": 8,
   "metadata": {},
   "outputs": [],
   "source": [
    "#Guardamos los pesos en cada iteración\n",
    "all_w1 = []\n",
    "all_w2 = []\n",
    "\n",
    "sess.run(init)\n",
    "for i in range(50000):\n",
    "    sess.run(train_step, feed_dict={x: X, y_: Y})\n",
    "    all_w1 += [sess.run(W_layer1)]\n",
    "    all_w2 += [sess.run(W_layer2)]"
   ]
  },
  {
   "cell_type": "code",
   "execution_count": 52,
   "metadata": {},
   "outputs": [],
   "source": [
    "l1 = [item[0][0] for item in all_w1]\n",
    "l2 = [item[0][0] for item in all_w2]\n",
    "x = range(49999)"
   ]
  },
  {
   "cell_type": "code",
   "execution_count": 53,
   "metadata": {},
   "outputs": [],
   "source": [
    "# Calculamos las diferencias en valor absoluto para una W y la siguiente\n",
    "l3 = [abs(j-i) for i,j in zip(l1, l1[1:])]\n",
    "l4 = [abs(j-i) for i,j in zip(l2, l2[1:])]"
   ]
  },
  {
   "cell_type": "code",
   "execution_count": 54,
   "metadata": {},
   "outputs": [
    {
     "data": {
      "image/png": "[encoded data removed]",
      "text/plain": [
       "<matplotlib.figure.Figure at 0x7f6be4db1fd0>"
      ]
     },
     "metadata": {},
     "output_type": "display_data"
    }
   ],
   "source": [
    "plt.plot(x, l3, 'r-') # Rojo - Tomamos uno de los pesos asociados a la capa mas a la derecha y analizamos su cambio\n",
    "plt.plot(x, l4, 'b-') # Azul - Tomamos uno de los pesos asociados a la capa mas a la izquierda y analizamos su cambio\n",
    "plt.show()\n"
   ]
  },
  {
   "cell_type": "code",
   "execution_count": 96,
   "metadata": {},
   "outputs": [],
   "source": [
    "sess.close()"
   ]
  },
  {
   "cell_type": "markdown",
   "metadata": {},
   "source": [
    "Notamos que las diferencias en la capa de la derecha converge a cero mucho mas rápido que la de la izquierda, como esperábamos."
   ]
  }
 ],
 "metadata": {
  "kernelspec": {
   "display_name": "Python 2",
   "language": "python",
   "name": "python2"
  },
  "language_info": {
   "codemirror_mode": {
    "name": "ipython",
    "version": 2
   },
   "file_extension": ".py",
   "mimetype": "text/x-python",
   "name": "python",
   "nbconvert_exporter": "python",
   "pygments_lexer": "ipython2",
   "version": "2.7.12"
  }
 },
 "nbformat": 4,
 "nbformat_minor": 1
}
